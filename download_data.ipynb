{
 "cells": [
  {
   "cell_type": "code",
   "execution_count": 2,
   "id": "aef36281-159b-4a57-b4d8-794a1c3c8ee3",
   "metadata": {},
   "outputs": [
    {
     "name": "stdout",
     "output_type": "stream",
     "text": [
      "--2024-06-01 20:20:27--  https://dmf.unicatt.it/~della/pythoncourse18/commedia.txt\n",
      "Resolving dmf.unicatt.it (dmf.unicatt.it)... 185.11.152.36\n",
      "Connecting to dmf.unicatt.it (dmf.unicatt.it)|185.11.152.36|:443... connected.\n",
      "WARNING: cannot verify dmf.unicatt.it's certificate, issued by 'CN=GEANT OV RSA CA 4,O=GEANT Vereniging,C=NL':\n",
      "  Unable to locally verify the issuer's authority.\n",
      "HTTP request sent, awaiting response... 200 OK\n",
      "Length: 557962 (545K) [text/plain]\n",
      "Saving to: 'commedia.txt'\n",
      "\n",
      "commedia.txt        100%[===================>] 544.88K  2.85MB/s    in 0.2s    \n",
      "\n",
      "2024-06-01 20:20:28 (2.85 MB/s) - 'commedia.txt' saved [557962/557962]\n",
      "\n"
     ]
    }
   ],
   "source": [
    "!wget https://dmf.unicatt.it/~della/pythoncourse18/commedia.txt --no-check-certificate"
   ]
  },
  {
   "cell_type": "code",
   "execution_count": null,
   "id": "acc0fb1b-d2ed-4675-82cd-9d496eca05e6",
   "metadata": {},
   "outputs": [],
   "source": []
  }
 ],
 "metadata": {
  "kernelspec": {
   "display_name": "Python 3 (ipykernel)",
   "language": "python",
   "name": "python3"
  },
  "language_info": {
   "codemirror_mode": {
    "name": "ipython",
    "version": 3
   },
   "file_extension": ".py",
   "mimetype": "text/x-python",
   "name": "python",
   "nbconvert_exporter": "python",
   "pygments_lexer": "ipython3",
   "version": "3.11.9"
  }
 },
 "nbformat": 4,
 "nbformat_minor": 5
}
